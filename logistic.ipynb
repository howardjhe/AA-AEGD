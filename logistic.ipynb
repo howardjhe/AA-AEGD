{
 "cells": [
  {
   "cell_type": "code",
   "execution_count": 74,
   "metadata": {},
   "outputs": [],
   "source": [
    "%matplotlib inline\n",
    "import numpy as np\n",
    "import matplotlib as mpl\n",
    "import matplotlib.pyplot as plt\n",
    "from sklearn.datasets import load_svmlight_file\n",
    "from functions import *\n",
    "from optimizers import *\n",
    "from applications import *\n",
    "from projectors import *\n",
    "import pandas as pd"
   ]
  },
  {
   "cell_type": "markdown",
   "metadata": {},
   "source": [
    "### Dataset used in the paper\n",
    "\n",
    "The dataset Madelon is downloaded from: http://archive.ics.uci.edu/ml/datasets.php.\n",
    "\n",
    "The dataset Marti0 is downloaded from: http://www.causality.inf.ethz.ch"
   ]
  },
  {
   "cell_type": "markdown",
   "metadata": {},
   "source": [
    "### Logistic regression with box constraints"
   ]
  },
  {
   "cell_type": "code",
   "execution_count": 75,
   "metadata": {},
   "outputs": [],
   "source": [
    "train_data = 'data/madelon_train.data'\n",
    "train_labels = 'data/madelon_train.labels'\n",
    "A = pd.read_csv(train_data, delimiter=' ', header=None)\n",
    "A = A.drop(A.shape[1]-1, axis = 1)\n",
    "b = pd.read_csv(train_labels, delimiter=' ', header=None)\n",
    "m, n = A.shape\n",
    "A = A.values\n",
    "b = b.values\n",
    "b = b.reshape(m,)\n",
    "\n",
    "# # Load problem data\n",
    "f, h, L2, x0 = logistic_regression_Linf(A, b, lambdaL2=10)\n",
    "\n",
    "max_iters = 1000\n",
    "max_runtime = 5\n",
    "depth = 15\n",
    "reg = 1e-10\n",
    "\n",
    "xs, Fx, Tx = gradient_descent(x0, 2*max_iters, 1./L2, f, box_projection, max_runtime=max_runtime)\n",
    "xs_ls, Fx_ls, Tx_ls = gradient_descent(x0, 2*max_iters, 1./L2, f,\n",
    "                                       proj=box_projection, max_step=10./L2, linesearch=True, max_runtime=max_runtime)\n",
    "\n",
    "xs_nes, Fx_nes, Tx_nes = accelerated_proximal_descent(x0, 2*max_iters, 1/L2, f, box_projection, max_runtime=max_runtime)\n",
    "xs_aa, Fx_aa, Tx_aa = AA_BPG(x0, max_iters, 5, h, f, 1./L2, reg=reg, max_runtime=max_runtime)\n",
    "xs_e, Fx_e, Tx_e = aegd(x0, 2*max_iters, 2./L2, f, box_projection, max_runtime=max_runtime)\n",
    "xs_eam, Fx_eam, Tx_eam = AA_AEGD_on(x0, max_iters, 3, h, f, 3./L2, c=1, reg=reg, max_runtime=max_runtime)"
   ]
  },
  {
   "cell_type": "code",
   "execution_count": 88,
   "metadata": {},
   "outputs": [
    {
     "data": {
      "image/png": "[encoded data removed]",
      "text/plain": [
       "<Figure size 360x288 with 1 Axes>"
      ]
     },
     "metadata": {
      "needs_background": "light"
     },
     "output_type": "display_data"
    }
   ],
   "source": [
    "optval = min(Fx_aa.min(), Fx_nes.min(), Fx_ls.min())\n",
    "\n",
    "fig1 = plt.figure(figsize=(5,4))\n",
    "plt.plot(range(len(Fx)), [f - optval for f in Fx], c='#d62728', label='PGA')\n",
    "plt.plot(range(len(Fx_nes)), [f - optval for f in Fx_nes], c='#2ca02c', label='APGA')\n",
    "plt.plot(range(len(Fx_aa)), [f - optval for f in Fx_aa], c='#1f77b4', label='AA-PGA(5,1)')\n",
    "plt.plot(range(len(Fx_e)), [f - optval for f in Fx_e], c='k', label='AEGD')\n",
    "plt.plot(range(len(Fx_eam)), [f - optval for f in Fx_eam], c='b', label='AA-AEGD(3,3)')\n",
    "\n",
    "plt.xlabel(\"Iteration\")\n",
    "plt.ylabel('|f(x)-f(x*)|')\n",
    "plt.yscale('log')\n",
    "plt.legend(loc='best', prop={'size': 11})\n",
    "\n",
    "plt.grid()\n",
    "plt.tight_layout()\n",
    "plt.rcParams.update({'font.size': 11})\n",
    "plt.savefig('plot/logistic.png', dpi=300)"
   ]
  },
  {
   "cell_type": "code",
   "execution_count": 82,
   "metadata": {},
   "outputs": [
    {
     "name": "stdout",
     "output_type": "stream",
     "text": [
      "20817.724174315805\n"
     ]
    }
   ],
   "source": [
    "kappa = np.linalg.cond(A)\n",
    "print(kappa)"
   ]
  },
  {
   "cell_type": "code",
   "execution_count": 83,
   "metadata": {},
   "outputs": [
    {
     "name": "stdout",
     "output_type": "stream",
     "text": [
      "61260.19435848386\n"
     ]
    }
   ],
   "source": [
    "A_p = np.linalg.norm(np.linalg.pinv(A))\n",
    "A_ = np.linalg.norm(A)\n",
    "print(A_*A_p)"
   ]
  },
  {
   "cell_type": "code",
   "execution_count": 84,
   "metadata": {},
   "outputs": [
    {
     "name": "stdout",
     "output_type": "stream",
     "text": [
      "20817.72417546227\n"
     ]
    }
   ],
   "source": [
    "vals = np.sort(np.linalg.eigvals(A.T@A))\n",
    "print(np.sqrt(vals[-1]) / np.sqrt(vals[0]))"
   ]
  }
 ],
 "metadata": {
  "kernelspec": {
   "display_name": "Python 3.9.12 ('pytorenv')",
   "language": "python",
   "name": "python3"
  },
  "language_info": {
   "codemirror_mode": {
    "name": "ipython",
    "version": 3
   },
   "file_extension": ".py",
   "mimetype": "text/x-python",
   "name": "python",
   "nbconvert_exporter": "python",
   "pygments_lexer": "ipython3",
   "version": "3.9.12"
  },
  "vscode": {
   "interpreter": {
    "hash": "358d082228fe09274320e63e642f392a204e411240c213b983a7b50105d07206"
   }
  }
 },
 "nbformat": 4,
 "nbformat_minor": 4
}
